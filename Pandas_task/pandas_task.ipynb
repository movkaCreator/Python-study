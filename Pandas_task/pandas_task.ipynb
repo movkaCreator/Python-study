{
 "cells": [
  {
   "cell_type": "code",
   "execution_count": 5,
   "metadata": {},
   "outputs": [
    {
     "data": {
      "text/plain": [
       "20557"
      ]
     },
     "execution_count": 5,
     "metadata": {},
     "output_type": "execute_result"
    }
   ],
   "source": [
    "import numpy as np\n",
    "import matplotlib.pyplot as plt\n",
    "import pandas as pd\n",
    "\n",
    "traveles_tab = pd.read_csv('travels.csv', delimiter = ';')\n",
    "travel_agents_tab = pd.read_csv('travel_agents.csv', delimiter = ';')\n",
    "sale_of_tour_packages_tab = pd.read_csv('sale_of_tour_packages.csv', delimiter = ';')\n",
    "\n",
    "# Соеденим данные из 3 таблиц в одну:\n",
    "\n",
    "tmp = pd.merge(sale_of_tour_packages_tab, travel_agents_tab)\n",
    "allTab = pd.merge(tmp, traveles_tab)\n",
    "\n",
    "# 1. Найти количество человек, совершивших путешествие в региональные центры.\n",
    "# Таблицы региональных городов не предоставлено, поэтому определим их сами:\n",
    "\n",
    "regionalCities = ['Москва', 'Вологда', 'Мурманск', 'Петрозаводск', 'Санкт-Петербург', 'Ярославль', 'Архангельск', 'Тверь',\n",
    "'Сыктывкар', 'Иваново', 'Кострома', 'Псков']\n",
    "\n",
    "# Отфильтруем таблицу таким образом, чтобы она включала данные региональных городов, затем посчитаем количество человек по проданным путевкам:\n",
    "\n",
    "task1_filter = allTab['Город'].isin(regionalCities)\n",
    "task1 = allTab[task1_filter]['Количество проданных путёвок'].sum()\n",
    "task1\n",
    "\n",
    "# Построить круговую диаграмму, отображающую общую стоимость путевок и стоимость путевок по каждому городу, \n",
    "# которые были проданы туроператором \"Горизонт\".\n",
    "\n",
    "task2_filter = allTab['Название'] == 'Горизонт'\n",
    "task2 = allTab[task2_filter]['Стоимость, на 1 чел']\n",
    "task2\n",
    "\n"
   ]
  }
 ],
 "metadata": {
  "kernelspec": {
   "display_name": "Python 3",
   "language": "python",
   "name": "python3"
  },
  "language_info": {
   "codemirror_mode": {
    "name": "ipython",
    "version": 3
   },
   "file_extension": ".py",
   "mimetype": "text/x-python",
   "name": "python",
   "nbconvert_exporter": "python",
   "pygments_lexer": "ipython3",
   "version": "3.10.7"
  },
  "orig_nbformat": 4,
  "vscode": {
   "interpreter": {
    "hash": "e450050b432e843bda3c41bf3272c133bfc370a7003f3e377e27f87a49ce1127"
   }
  }
 },
 "nbformat": 4,
 "nbformat_minor": 2
}
